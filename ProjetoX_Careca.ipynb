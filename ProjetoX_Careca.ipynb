{
  "nbformat": 4,
  "nbformat_minor": 0,
  "metadata": {
    "colab": {
      "provenance": [],
      "authorship_tag": "ABX9TyNwVtEx4+SU2kexdoh2ZCzH",
      "include_colab_link": true
    },
    "kernelspec": {
      "name": "python3",
      "display_name": "Python 3"
    },
    "language_info": {
      "name": "python"
    }
  },
  "cells": [
    {
      "cell_type": "markdown",
      "metadata": {
        "id": "view-in-github",
        "colab_type": "text"
      },
      "source": [
        "<a href=\"https://colab.research.google.com/github/luvanohydra/Matem-tica/blob/main/ProjetoX_Careca.ipynb\" target=\"_parent\"><img src=\"https://colab.research.google.com/assets/colab-badge.svg\" alt=\"Open In Colab\"/></a>"
      ]
    },
    {
      "cell_type": "markdown",
      "source": [
        "**Aluno**: Luiz Felipe 3ºADM"
      ],
      "metadata": {
        "id": "5bXDGKOMIe0W"
      }
    },
    {
      "cell_type": "markdown",
      "source": [
        "**Festa do Luva**"
      ],
      "metadata": {
        "id": "E7NLGx2xIXIP"
      }
    },
    {
      "cell_type": "code",
      "execution_count": null,
      "metadata": {
        "id": "sRzln3X3ISQL"
      },
      "outputs": [],
      "source": [
        "import math\n",
        "import time\n",
        "print('Festa do Luva')\n",
        "nome = input('Qual é seu nome?') #Perguntar o nome do usuário\n",
        "if nome.isalpha(): #Verificar se o nome é alfabético\n",
        "  print ('Nome válido')\n",
        "else:\n",
        "  print ('Nome inválido')\n",
        "  nome = str (input('Qual é seu nome?'))\n",
        "time.sleep(2)\n",
        "print ('DATA DE NASCIMENTO')\n",
        "dia = int (input('Dia: ')) #dia que nasceu\n",
        "if dia >=1 and dia <=31:\n",
        "  print ('Dia válido')\n",
        "else:                           #validação do dia\n",
        "    print('Dia inválido')\n",
        "    dia = int (input('Dia: '))\n",
        "time.sleep(2)\n",
        "mes = int (input('Mês: '))  # mês que nasceu em numeros ex:06\n",
        "if mes >=1 and mes <=12:        #limitando a escolha entre 1 e 12\n",
        "    print ('Mes válido')\n",
        "else:\n",
        "    print ('Mes inválido')\n",
        "    mes = int (input('Mês: '))    #Caso tenha colocado o elemento errado, o codigo volta\n",
        "time.sleep(2)\n",
        "ano = int (input('Ano :'))\n",
        "print ('Prazer em te conhecer {}, voce nasceu em {} do {} de {}, voce tem {} anos de idade!'.format(nome,dia, mes,ano,2025-ano)) #As chaves indicam cada variavel, e o .format() é usado para demonstrar as variaveis\n",
        "if 2025-ano >=18: #verifica se o usuário tem 18 anos ou mais\n",
        "    print ('Acesso Liberado')\n",
        "else:\n",
        "    print ('Acesso Negado, tente novamente daqui a {} anos'.format(18-(2025-ano))) #se o usuário não tiver 18 anos, ele vai ter que esperar mais alguns anos)\n",
        " #Tentei fazer o código mais limpo possivel"
      ]
    }
  ]
}